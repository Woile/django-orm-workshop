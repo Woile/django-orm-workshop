{
 "cells": [
  {
   "cell_type": "markdown",
   "metadata": {},
   "source": [
    "# Django Workshop\n",
    "\n",
    "Welcome to this notebook-workshop. \n",
    "\n",
    "Here you will be guided on how to use the Django ORM.\n",
    "\n",
    "There are some examples and some exercise that you must complete.\n",
    "\n",
    "If you have run `make init` then your database will be populated with some playing data.\n",
    "\n",
    "Listen to the tutors\n",
    "\n",
    "Remember to press **SHIFT + ENTER** to run the notebook line\n",
    "\n",
    "Let's begin...\n",
    "\n",
    "\n",
    "\n",
    "## Import the things we are gonna use"
   ]
  },
  {
   "cell_type": "code",
   "execution_count": 2,
   "metadata": {},
   "outputs": [],
   "source": [
    "from tabulate import tabulate\n",
    "from django.db.models import Max, Min, Avg, Sum, Count\n",
    "from humanresources.models import (\n",
    "    Regions,\n",
    "    Countries,\n",
    "    Locations,\n",
    "    Departments,\n",
    "    Jobs,\n",
    "    Employees\n",
    ")\n",
    "\n",
    "\n",
    "def simple_table(queryset, *fields):\n",
    "    \"\"\"Usage:\n",
    "    simple_table(jobs, 'job_title')\n",
    "    \"\"\"\n",
    "    v = queryset.values_list(*fields)\n",
    "    print(tabulate(v, headers=fields))"
   ]
  },
  {
   "cell_type": "markdown",
   "metadata": {},
   "source": [
    "# Basic Usage\n",
    "\n",
    "In order to make queries, you must always access the manager \"objects\". Example:\n",
    "\n",
    "`Jobs.objects.all()`"
   ]
  },
  {
   "cell_type": "markdown",
   "metadata": {},
   "source": [
    "## Creation\n",
    "\n",
    "Simple as running `MyModel.objects.create` with the right parameters\n"
   ]
  },
  {
   "cell_type": "markdown",
   "metadata": {},
   "source": [
    "Let's see an example of a `Regions` creation"
   ]
  },
  {
   "cell_type": "code",
   "execution_count": 4,
   "metadata": {},
   "outputs": [],
   "source": [
    "region = Regions.objects.create(region_name=\"moon\")"
   ]
  },
  {
   "cell_type": "code",
   "execution_count": 5,
   "metadata": {},
   "outputs": [],
   "source": [
    "country = Countries.objects.create(country_iso_code=\"WK\", country_name=\"Wakanda\", region=region)"
   ]
  },
  {
   "cell_type": "markdown",
   "metadata": {},
   "source": [
    "Now it's your turn.\n",
    "\n",
    "**Exercise 1**\n",
    "\n",
    "Create a Job. Go to `demo/humanresources/models.py` to see the fields\n",
    "\n",
    "Modify the code in the next line to include the missing fields"
   ]
  },
  {
   "cell_type": "code",
   "execution_count": null,
   "metadata": {},
   "outputs": [],
   "source": [
    "job = Jobs.objects.create()  # add fields inside create"
   ]
  },
  {
   "cell_type": "markdown",
   "metadata": {},
   "source": [
    "## Update\n",
    "\n",
    "Simple as running `MyModel.objects.update` with the right parameters\n",
    "\n",
    "Let's update the region created above.\n"
   ]
  },
  {
   "cell_type": "code",
   "execution_count": null,
   "metadata": {},
   "outputs": [],
   "source": [
    "Countries.objects.filter(country_iso_code=\"WK\").update(region=Regions.objects.get(region_name=\"Middle East and Africa\"))"
   ]
  },
  {
   "cell_type": "markdown",
   "metadata": {},
   "source": [
    "## Delete\n",
    "\n",
    "Simple as running `MyModel.objects.delete` with the right parameters\n",
    "\n",
    "Let's delete the region created above.\n"
   ]
  },
  {
   "cell_type": "code",
   "execution_count": null,
   "metadata": {},
   "outputs": [],
   "source": [
    "Regions.objects.filter(region_name=\"moon\").delete()"
   ]
  },
  {
   "cell_type": "markdown",
   "metadata": {},
   "source": [
    "# Filtering\n",
    "\n",
    "Now the fun part starts, this would be doing a normal **SQL SELECT**.\n",
    "\n",
    "Usually you'll have to do some lookups while filtering.\n",
    "In order to do so, you must use double underscore (`__`) after the field name.\n",
    "\n",
    "## Lookups\n",
    "\n",
    "These are some of the lookups we are gonna use:\n",
    "\n",
    "| Lookup | Description |\n",
    "| :--- | ---: |\n",
    "| [icontains](https://docs.djangoproject.com/en/2.1/ref/models/querysets/#icontains) | insensitive contain |\n",
    "| [in](https://docs.djangoproject.com/en/2.1/ref/models/querysets/#in) | is in a list.  |\n",
    "| [gt](https://docs.djangoproject.com/en/2.1/ref/models/querysets/#gt) | greater than |\n",
    "| [gte](https://docs.djangoproject.com/en/2.1/ref/models/querysets/#gte) | greater than equal |\n",
    "| [lt](https://docs.djangoproject.com/en/2.1/ref/models/querysets/#lt) | lower than |\n",
    "| [lte](https://docs.djangoproject.com/en/2.1/ref/models/querysets/#lte) | lower than equal  |\n",
    "| [range](https://docs.djangoproject.com/en/2.1/ref/models/querysets/#range) | is in the given range, works with dates also. |\n",
    "| [year](https://docs.djangoproject.com/en/2.1/ref/models/querysets/#year) | select the year from dates |\n",
    "| [isnull](https://docs.djangoproject.com/en/2.1/ref/models/querysets/#isnull) | is the field row is null. |\n",
    "\n",
    "\n",
    "Examples: \n",
    "\n",
    "`Regions.objects.filter(region_name__icontains='ar')`\n",
    "\n",
    "`Regions.objects.filter(id__in=[1, 2, 3])`\n",
    "\n",
    "Let's retrieve some information from our data"
   ]
  },
  {
   "cell_type": "markdown",
   "metadata": {},
   "source": [
    "**Exercise 2**\n",
    "\n",
    "Filter the Jobs with minimum salary greater than 10000."
   ]
  },
  {
   "cell_type": "code",
   "execution_count": null,
   "metadata": {},
   "outputs": [],
   "source": [
    "jobs = Jobs.objects.filter()\n",
    "\n",
    "simple_table(jobs, 'min_salary', 'job_title')"
   ]
  },
  {
   "cell_type": "markdown",
   "metadata": {},
   "source": [
    "**Exercise 3**\n",
    "\n",
    "Display the number of employees hired in \n",
    "\n",
    "**hint**: Fill the missing lookup"
   ]
  },
  {
   "cell_type": "code",
   "execution_count": null,
   "metadata": {},
   "outputs": [],
   "source": [
    "Employees.objects.filter(hire_date=1999).count()"
   ]
  },
  {
   "cell_type": "markdown",
   "metadata": {},
   "source": [
    "**Exercise 4**\n",
    "\n",
    "Display the number of employees hired between `1999` and `2000`\n",
    "\n",
    "**hint**: Fill the missing lookups"
   ]
  },
  {
   "cell_type": "code",
   "execution_count": null,
   "metadata": {},
   "outputs": [],
   "source": [
    "years_range = (1999, 2000)\n",
    "Employees.objects.filter(hire_date=...).count()"
   ]
  },
  {
   "cell_type": "markdown",
   "metadata": {},
   "source": [
    "**Exercise 5**\n",
    "\n",
    "Display the department names without a manager\n",
    "\n",
    "**hint**: Fill the missing lookup"
   ]
  },
  {
   "cell_type": "code",
   "execution_count": null,
   "metadata": {},
   "outputs": [],
   "source": [
    "departments = Departments.objects.filter(manager_id__...)\n",
    "\n",
    "simple_table(departments, 'department_name')"
   ]
  },
  {
   "cell_type": "markdown",
   "metadata": {},
   "source": [
    "## Aggregations\n",
    "\n",
    "[Documentation](https://docs.djangoproject.com/en/2.1/ref/models/querysets/#aggregation-functions)\n",
    "\n",
    "[Cheat Sheet](https://docs.djangoproject.com/en/2.1/topics/db/aggregation/#cheat-sheet)\n",
    "\n",
    "Now you'll see how to retrieve valuable information from your queries"
   ]
  },
  {
   "cell_type": "markdown",
   "metadata": {},
   "source": [
    "**Exercise 6**\n",
    "\n",
    "Display the max salary earned in the company"
   ]
  },
  {
   "cell_type": "code",
   "execution_count": null,
   "metadata": {},
   "outputs": [],
   "source": [
    "Employees.objects.aggregate(Max('salary')) "
   ]
  },
  {
   "cell_type": "markdown",
   "metadata": {},
   "source": [
    "**Exercise 7**\n",
    "\n",
    "Display the number of employees having the max salary\n",
    "\n",
    "**hint** Fill the missing aggregate"
   ]
  },
  {
   "cell_type": "code",
   "execution_count": null,
   "metadata": {},
   "outputs": [],
   "source": [
    "Employees.objects.filter(salary=Employees.objects.aggregate(...('salary'))['salary__max']).count()  "
   ]
  },
  {
   "cell_type": "markdown",
   "metadata": {},
   "source": [
    "**Exercise 8**\n",
    "\n",
    "Display the min salary earned in the company\n",
    "\n",
    "**hint** Fill the missing aggregate"
   ]
  },
  {
   "cell_type": "code",
   "execution_count": null,
   "metadata": {},
   "outputs": [],
   "source": [
    "Employees.objects.aggregate(...('salary')) "
   ]
  },
  {
   "cell_type": "markdown",
   "metadata": {},
   "source": [
    "**Exercise 9**\n",
    "\n",
    "Display the avg salary earned in the company\n",
    "\n",
    "**hint** Fill the missing aggregate"
   ]
  },
  {
   "cell_type": "code",
   "execution_count": null,
   "metadata": {},
   "outputs": [],
   "source": [
    "Employees.objects.aggregate(...('salary')) "
   ]
  },
  {
   "cell_type": "markdown",
   "metadata": {},
   "source": [
    "**Exercise 10**\n",
    "\n",
    "Display the number of employees having the max salary\n",
    "\n",
    "**hint** Fill the missing functions"
   ]
  },
  {
   "cell_type": "code",
   "execution_count": null,
   "metadata": {},
   "outputs": [],
   "source": [
    "qs = Employees.objects.aggregate(...('salary'), ...('salary'))  \n",
    "Employees.objects.filter(salary__...=(qs['salary__avg'], qs['salary__max'])).count() "
   ]
  },
  {
   "cell_type": "markdown",
   "metadata": {},
   "source": [
    "**Exercise 11**\n",
    "\n",
    "Display the number of employees per department name"
   ]
  },
  {
   "cell_type": "code",
   "execution_count": null,
   "metadata": {},
   "outputs": [],
   "source": [
    "department_counts = Employees.objects.values('department__department_name').annotate(dep_count=Count('department__department_name'))  "
   ]
  },
  {
   "cell_type": "markdown",
   "metadata": {},
   "source": [
    "**Exercise 12**\n",
    "\n",
    "Display the department name with 2 employees"
   ]
  },
  {
   "cell_type": "code",
   "execution_count": null,
   "metadata": {},
   "outputs": [],
   "source": [
    "department_counts.filter(dep_count=...).values(...)"
   ]
  },
  {
   "cell_type": "markdown",
   "metadata": {},
   "source": [
    "## Optimizations\n",
    "\n",
    "**Remember: pre optimization is the root of all evil**\n",
    "\n",
    "If you see your queries are behaving slowly, there are some simple tweaks you can do to make them faster."
   ]
  },
  {
   "cell_type": "markdown",
   "metadata": {},
   "source": [
    "### select_related\n",
    "\n",
    "[Documentation](https://docs.djangoproject.com/en/2.1/ref/models/querysets/#select-related)\n",
    "\n",
    "Will include `JOINS`"
   ]
  },
  {
   "cell_type": "code",
   "execution_count": 25,
   "metadata": {},
   "outputs": [
    {
     "name": "stdout",
     "output_type": "stream",
     "text": [
      "SELECT \"humanresources_employees\".\"id\", \"humanresources_employees\".\"first_name\", \"humanresources_employees\".\"last_name\", \"humanresources_employees\".\"email\", \"humanresources_employees\".\"hire_date\", \"humanresources_employees\".\"job_id\", \"humanresources_employees\".\"salary\", \"humanresources_employees\".\"manager_id\", \"humanresources_employees\".\"department_id\", \"humanresources_employees\".\"commission_pct\", \"humanresources_employees\".\"phone_number\" FROM \"humanresources_employees\"\n"
     ]
    }
   ],
   "source": [
    "print(Employees.objects.all().query)"
   ]
  },
  {
   "cell_type": "code",
   "execution_count": 24,
   "metadata": {
    "scrolled": true
   },
   "outputs": [
    {
     "name": "stdout",
     "output_type": "stream",
     "text": [
      "SELECT \"humanresources_employees\".\"id\", \"humanresources_employees\".\"first_name\", \"humanresources_employees\".\"last_name\", \"humanresources_employees\".\"email\", \"humanresources_employees\".\"hire_date\", \"humanresources_employees\".\"job_id\", \"humanresources_employees\".\"salary\", \"humanresources_employees\".\"manager_id\", \"humanresources_employees\".\"department_id\", \"humanresources_employees\".\"commission_pct\", \"humanresources_employees\".\"phone_number\", \"humanresources_departments\".\"id\", \"humanresources_departments\".\"department_name\", \"humanresources_departments\".\"manager_id\", \"humanresources_departments\".\"location_id\" FROM \"humanresources_employees\" LEFT OUTER JOIN \"humanresources_departments\" ON (\"humanresources_employees\".\"department_id\" = \"humanresources_departments\".\"id\")\n"
     ]
    }
   ],
   "source": [
    "print(Employees.objects.select_related('department').all().query)"
   ]
  },
  {
   "cell_type": "markdown",
   "metadata": {},
   "source": [
    "**Exercise 12**\n",
    "\n",
    "Display the employees  `first_name`, `last_name` and its `department_name` WITH a department assigned\n",
    "\n",
    "**hint**: you'll have to use relationships and lookups here. [Docs](https://docs.djangoproject.com/en/2.1/topics/db/queries/#lookups-that-span-relationships)"
   ]
  },
  {
   "cell_type": "code",
   "execution_count": null,
   "metadata": {},
   "outputs": [],
   "source": [
    "employees = Employees.objects.filter(...)\n",
    "\n",
    "simple_table(employees, 'first_name', 'last_name', 'THE DEPARTMENT NAME')"
   ]
  },
  {
   "cell_type": "markdown",
   "metadata": {},
   "source": [
    "**Exercise 13**\n",
    "\n",
    "Display the first and last name, department, city, and state province for each employee\n",
    "\n",
    "**hint**: you'll have to use relationships and lookups here. [Docs](https://docs.djangoproject.com/en/2.1/topics/db/queries/#lookups-that-span-relationships)"
   ]
  },
  {
   "cell_type": "code",
   "execution_count": null,
   "metadata": {},
   "outputs": [],
   "source": [
    "employees = Employees.objects.values(...)  "
   ]
  },
  {
   "cell_type": "markdown",
   "metadata": {},
   "source": [
    "**Exercise 14**\n",
    "\n",
    "Display those employees who contain a letter z to their first name and also display their last name, department, city, and state province.\n",
    "\n",
    "**hint**: you'll have to use relationships and lookups here. [Docs](https://docs.djangoproject.com/en/2.1/topics/db/queries/#lookups-that-span-relationships)"
   ]
  },
  {
   "cell_type": "code",
   "execution_count": null,
   "metadata": {},
   "outputs": [],
   "source": [
    "Employees.objects.values(...).filter(...)"
   ]
  },
  {
   "cell_type": "markdown",
   "metadata": {},
   "source": [
    "## prefect_related\n",
    "\n",
    "[Documentation](https://docs.djangoproject.com/en/2.1/ref/models/querysets/#prefetch-related)\n",
    "\n",
    "Helps with many to many queries"
   ]
  },
  {
   "cell_type": "code",
   "execution_count": null,
   "metadata": {},
   "outputs": [],
   "source": []
  },
  {
   "cell_type": "code",
   "execution_count": null,
   "metadata": {},
   "outputs": [],
   "source": []
  }
 ],
 "metadata": {
  "kernelspec": {
   "display_name": "Django Shell-Plus",
   "language": "python",
   "name": "django_extensions"
  },
  "language_info": {
   "codemirror_mode": {
    "name": "ipython",
    "version": 3
   },
   "file_extension": ".py",
   "mimetype": "text/x-python",
   "name": "python",
   "nbconvert_exporter": "python",
   "pygments_lexer": "ipython3",
   "version": "3.6.7"
  }
 },
 "nbformat": 4,
 "nbformat_minor": 2
}
