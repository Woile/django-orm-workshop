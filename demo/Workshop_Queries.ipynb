{
 "cells": [
  {
   "cell_type": "markdown",
   "metadata": {},
   "source": [
    "# Django Workshop\n",
    "\n",
    "Welcome to this notebook-workshop. \n",
    "\n",
    "Here you will be guided on how to use the Django ORM.\n",
    "\n",
    "There are some examples and some exercise that you must complete.\n",
    "\n",
    "If you have run `make init` then your database will be populated with some playing data.\n",
    "\n",
    "Listen to the tutors\n",
    "\n",
    "Remember to press **SHIFT + ENTER** to run the notebook line\n",
    "\n",
    "Let's begin...\n",
    "\n",
    "\n",
    "\n",
    "## Import the things we are gonna use"
   ]
  },
  {
   "cell_type": "code",
   "execution_count": null,
   "metadata": {},
   "outputs": [],
   "source": [
    "from django.db.models import Max, Min, Avg, Sum\n",
    "from humanresources.models import (\n",
    "    Regions,\n",
    "    Countries,\n",
    "    Locations,\n",
    "    Departments,\n",
    "    Jobs,\n",
    "    Employees\n",
    ")"
   ]
  },
  {
   "cell_type": "markdown",
   "metadata": {},
   "source": [
    "# Basic Usage\n",
    "\n",
    "In order to make queries, you must always access the manager \"objects\". Example:\n",
    "\n",
    "`Jobs.objects.all()`"
   ]
  },
  {
   "cell_type": "markdown",
   "metadata": {},
   "source": [
    "## Creation\n",
    "\n",
    "Simple as running `MyModel.objects.create` with the right parameters\n"
   ]
  },
  {
   "cell_type": "markdown",
   "metadata": {},
   "source": [
    "Let's see an example of a `Regions` creation"
   ]
  },
  {
   "cell_type": "code",
   "execution_count": null,
   "metadata": {},
   "outputs": [],
   "source": [
    "region = Regions.objects.create(region_name=\"moon\")"
   ]
  },
  {
   "cell_type": "markdown",
   "metadata": {},
   "source": [
    "Now it's your turn.\n",
    "\n",
    "**Exercise 1**\n",
    "\n",
    "Create a Job. Go to `demo/humanresources/models.py` to see the fields\n",
    "\n",
    "Modify the code in the next line to include the missing fields"
   ]
  },
  {
   "cell_type": "code",
   "execution_count": null,
   "metadata": {},
   "outputs": [],
   "source": [
    "job = Job.objects.create()  # add fields inside create"
   ]
  },
  {
   "cell_type": "markdown",
   "metadata": {},
   "source": [
    "# Filtering (AKA SELECT)\n",
    "\n",
    "Now the fun part starts, let's retrieve some information from our data"
   ]
  },
  {
   "cell_type": "code",
   "execution_count": null,
   "metadata": {},
   "outputs": [],
   "source": [
    "# Display the details of jobs where the minimum salary is greater than 10000.\n",
    "Jobs.objects.filter(min_salary__gt=10000).values()"
   ]
  },
  {
   "cell_type": "code",
   "execution_count": null,
   "metadata": {},
   "outputs": [],
   "source": [
    "# Display the number of employees hired in 1999\n",
    "Employees.objects.filter(hire_date__range=('1999-01-01', '1999-12-31')).count()\n",
    "Employees.objects.filter(hire_date__year=1999).count()"
   ]
  },
  {
   "cell_type": "code",
   "execution_count": null,
   "metadata": {},
   "outputs": [],
   "source": [
    "# Display the number of employees hired between 1999 and 2000\n",
    "Employees.objects.filter(hire_date FILL HERE).count()"
   ]
  },
  {
   "cell_type": "code",
   "execution_count": null,
   "metadata": {},
   "outputs": [],
   "source": [
    "# Display the department names without a manager\n",
    "Departments.objects.filter(manager_id__isnull=True).values('department_name') "
   ]
  },
  {
   "cell_type": "code",
   "execution_count": null,
   "metadata": {},
   "outputs": [],
   "source": [
    "# Display the first name, last name, department number, and department name for each employee. \n",
    "Employees.objects.select_related('department').values('first_name', 'last_name', 'department_id', 'department__department_name')   "
   ]
  },
  {
   "cell_type": "code",
   "execution_count": null,
   "metadata": {},
   "outputs": [],
   "source": [
    "# Display the first and last name, department, city, and state province for each employee\n",
    "Employees.objects.values('first_name', 'last_name', 'department__department_name', 'department__location__city', 'department__location__state_province')  "
   ]
  },
  {
   "cell_type": "code",
   "execution_count": null,
   "metadata": {},
   "outputs": [],
   "source": [
    "# Display those employees who contain a letter z to their first name and also display their last name, department, city, and state province.\n",
    "Employees.objects.values('first_name', 'last_name', 'department__department_name', 'department__location__city', 'department__location__state_province').filter(first_name__contains='z')"
   ]
  },
  {
   "cell_type": "code",
   "execution_count": null,
   "metadata": {},
   "outputs": [],
   "source": [
    "# Display the max salary earned in the company\n",
    "Employees.objects.aggregate(Max('salary')) "
   ]
  },
  {
   "cell_type": "code",
   "execution_count": null,
   "metadata": {},
   "outputs": [],
   "source": [
    "# Display the number of employees having the max salary\n",
    " Employees.objects.filter(salary=Employees.objects.aggregate(Max('salary'))['salary__max']).count()  "
   ]
  },
  {
   "cell_type": "code",
   "execution_count": null,
   "metadata": {},
   "outputs": [],
   "source": [
    "# Display the min salary earned in the company"
   ]
  },
  {
   "cell_type": "code",
   "execution_count": null,
   "metadata": {},
   "outputs": [],
   "source": [
    "# Display the avg salary earned in the company"
   ]
  },
  {
   "cell_type": "code",
   "execution_count": null,
   "metadata": {},
   "outputs": [],
   "source": [
    "# Display the number of employees with the salary between avg and max\n",
    "qs = Employees.objects.aggregate(Avg('salary'), Max('salary'))  \n",
    "Employees.objects.filter(salary__range=(qs['salary__avg'], qs['salary__max'])).count() "
   ]
  },
  {
   "cell_type": "code",
   "execution_count": null,
   "metadata": {},
   "outputs": [],
   "source": [
    "# Display the number of employees with the salary between min and max"
   ]
  }
 ],
 "metadata": {
  "kernelspec": {
   "display_name": "Django Shell-Plus",
   "language": "python",
   "name": "django_extensions"
  },
  "language_info": {
   "codemirror_mode": {
    "name": "ipython",
    "version": 3
   },
   "file_extension": ".py",
   "mimetype": "text/x-python",
   "name": "python",
   "nbconvert_exporter": "python",
   "pygments_lexer": "ipython3",
   "version": "3.6.5"
  }
 },
 "nbformat": 4,
 "nbformat_minor": 2
}
